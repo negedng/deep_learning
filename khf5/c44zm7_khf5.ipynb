{
 "cells": [
  {
   "cell_type": "markdown",
   "metadata": {},
   "source": [
    "# Author recognition"
   ]
  },
  {
   "cell_type": "markdown",
   "metadata": {},
   "source": [
    "## Prepare\n",
    " - Imports\n",
    " - Cleaning algorithm\n",
    " - Reading algorithm"
   ]
  },
  {
   "cell_type": "code",
   "execution_count": 1,
   "metadata": {
    "collapsed": true
   },
   "outputs": [],
   "source": [
    "import urllib.request\n",
    "import re\n",
    "import string"
   ]
  },
  {
   "cell_type": "code",
   "execution_count": 2,
   "metadata": {
    "collapsed": false
   },
   "outputs": [],
   "source": [
    "def cleaning(data):\n",
    "    \"\"\"Text cleaning: \n",
    "        lower the letters\n",
    "        punctuation\n",
    "        numbers to _NUM_ tokens\"\"\"\n",
    "    formated_data = data.lower()\n",
    "    #remove elements in string.punctation with regex\n",
    "    formated_data = re.sub('['+string.punctuation+'\\r'+'“”’'+']', '', formated_data)\n",
    "    #replace 1..n number with regex\n",
    "    formated_data = re.sub('['+string.digits+']+','_NUM_',formated_data)\n",
    "    return formated_data"
   ]
  },
  {
   "cell_type": "code",
   "execution_count": 3,
   "metadata": {
    "collapsed": false
   },
   "outputs": [],
   "source": [
    "def reading(path, encoding='utf-8'):\n",
    "    \"\"\"Reading data from html pain text and cleaning it\n",
    "    Inputs:\n",
    "        path - html utl\n",
    "        encoding\n",
    "    Outputs:\n",
    "        output - line seperated cleaned data\"\"\"\n",
    "    data = urllib.request.urlopen(path).read()\n",
    "    data_split = data.split(b'\\n')\n",
    "    \n",
    "    data_cleaned = []\n",
    "    for line in data_split:\n",
    "        try:\n",
    "            #encoding\n",
    "            line = line.decode(encoding, 'backslashreplace')\n",
    "            if encoding.lower() == 'utf-8' or encoding == '':\n",
    "                #Detect wrong ' format:\n",
    "                line = re.sub('\\\\\\\\x92','\\'',line)\n",
    "                #Other wrong character encodings:\n",
    "                line = re.sub('\\\\\\\\(xa?\\d.)*','?',line)\n",
    "                line = re.sub('\\ufeff','?',line)\n",
    "                \n",
    "            #cleaning    \n",
    "            line = cleaning(line)\n",
    "            line = line.strip()\n",
    "            \n",
    "            if line!='':\n",
    "                data_cleaned.append(line)\n",
    "                \n",
    "        except UnicodeError:\n",
    "            print(line)\n",
    "    return data_cleaned"
   ]
  },
  {
   "cell_type": "markdown",
   "metadata": {},
   "source": [
    "## Reading Inputs\n",
    "Note: http://www.gutenberg.org sometimes ask for chapta"
   ]
  },
  {
   "cell_type": "markdown",
   "metadata": {},
   "source": [
    "### Mark Twain\n",
    "* The Project Gutenberg EBook of The Adventures of Tom Sawyer, Complete by\n",
    "  Mark Twain (Samuel Clemens)\n",
    "* Project Gutenberg’s The American Claimant, by Mark Twain (Samuel\n",
    "  Clemens)\n",
    "* The Project Gutenberg EBook of Adventures of Huckleberry Finn, Complete\n",
    "  by Mark Twain (Samuel Clemens)"
   ]
  },
  {
   "cell_type": "code",
   "execution_count": 4,
   "metadata": {
    "collapsed": false
   },
   "outputs": [],
   "source": [
    "mark_twain_1 = reading('http://www.gutenberg.org/files/74/74-0.txt', 'UTF-8')\n",
    "mark_twain_2 = reading('http://www.gutenberg.org/files/3179/3179-0.txt')\n",
    "mark_twain_3 = reading('http://www.gutenberg.org/files/76/76-0.txt')"
   ]
  },
  {
   "cell_type": "markdown",
   "metadata": {},
   "source": [
    "### Jules Verne\n",
    "Note: he did not write in English\n",
    "* The Project Gutenberg EBook of Around the World in 80 Days, by Jules Verne\n",
    "* Project Gutenberg's A Journey to the Interior of the Earth, by Jules Verne\n",
    "* The Project Gutenberg EBook of The Master of the World, by Jules Verne"
   ]
  },
  {
   "cell_type": "code",
   "execution_count": 5,
   "metadata": {
    "collapsed": true
   },
   "outputs": [],
   "source": [
    "jules_verne_1 = reading('http://www.gutenberg.org/cache/epub/103/pg103.txt')\n",
    "jules_verne_2 = reading('http://www.gutenberg.org/cache/epub/3748/pg3748.txt')\n",
    "jules_verne_3 = reading('http://www.gutenberg.org/cache/epub/3809/pg3809.txt')"
   ]
  },
  {
   "cell_type": "markdown",
   "metadata": {},
   "source": [
    "### Walter Scott\n",
    "* The Project Gutenberg EBook of The Black Dwarf, by Sir Walter Scott\n",
    "* The Project Gutenberg EBook of The Heart of Mid-Lothian, Complete,\n",
    "* The Project Gutenberg EBook of The Talisman, by Sir Walter Scott"
   ]
  },
  {
   "cell_type": "code",
   "execution_count": 11,
   "metadata": {
    "collapsed": true
   },
   "outputs": [],
   "source": [
    "walter_scott_1 = reading('http://www.gutenberg.org/files/1460/1460-0.txt')\n",
    "walter_scott_2 = reading('http://www.gutenberg.org/files/6944/6944-0.txt')\n",
    "walter_scott_3 = reading('http://www.gutenberg.org/files/1377/1377-0.txt')"
   ]
  },
  {
   "cell_type": "code",
   "execution_count": 13,
   "metadata": {
    "collapsed": false
   },
   "outputs": [
    {
     "name": "stdout",
     "output_type": "stream",
     "text": [
      "['Mark Twain', 6926, 6301, 9671] ['Jules Verne', 6441, 7552, 4400] ['Walter Scott', 5458, 21178, 11861]\n"
     ]
    }
   ],
   "source": [
    "# If its 274 or something, it means the page think we are robots\n",
    "print(['Mark Twain',len(mark_twain_1),len(mark_twain_2),len(mark_twain_3)],\n",
    "     ['Jules Verne',len(jules_verne_1),len(jules_verne_2),len(jules_verne_3)],\n",
    "     ['Walter Scott',len(walter_scott_1),len(walter_scott_2),len(walter_scott_3)])"
   ]
  },
  {
   "cell_type": "code",
   "execution_count": null,
   "metadata": {
    "collapsed": false
   },
   "outputs": [],
   "source": []
  },
  {
   "cell_type": "code",
   "execution_count": null,
   "metadata": {
    "collapsed": true
   },
   "outputs": [],
   "source": []
  }
 ],
 "metadata": {
  "kernelspec": {
   "display_name": "Python 3",
   "language": "python",
   "name": "python3"
  },
  "language_info": {
   "codemirror_mode": {
    "name": "ipython",
    "version": 3
   },
   "file_extension": ".py",
   "mimetype": "text/x-python",
   "name": "python",
   "nbconvert_exporter": "python",
   "pygments_lexer": "ipython3",
   "version": "3.5.2"
  }
 },
 "nbformat": 4,
 "nbformat_minor": 1
}
