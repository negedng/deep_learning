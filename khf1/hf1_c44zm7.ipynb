{
 "cells": [
  {
   "cell_type": "code",
   "execution_count": 194,
   "metadata": {
    "collapsed": true
   },
   "outputs": [],
   "source": [
    "#numpy\n",
    "import numpy as np"
   ]
  },
  {
   "cell_type": "code",
   "execution_count": 195,
   "metadata": {
    "collapsed": true
   },
   "outputs": [],
   "source": [
    "#image manipulation\n",
    "from PIL import Image"
   ]
  },
  {
   "cell_type": "code",
   "execution_count": 196,
   "metadata": {
    "collapsed": true
   },
   "outputs": [],
   "source": [
    "#import image\n",
    "img1 = Image.open('img1.png')\n",
    "#to RGBA\n",
    "arr1 = np.array(img1)\n",
    "#to RGB\n",
    "arr1=arr1[:,:,:3]"
   ]
  },
  {
   "cell_type": "code",
   "execution_count": 197,
   "metadata": {
    "collapsed": true
   },
   "outputs": [],
   "source": [
    "img1.show()"
   ]
  },
  {
   "cell_type": "code",
   "execution_count": 198,
   "metadata": {
    "collapsed": false
   },
   "outputs": [
    {
     "data": {
      "text/plain": [
       "array([[[  0,   0,   0],\n",
       "        [ 85, 153, 204],\n",
       "        [ 85, 153, 204],\n",
       "        ..., \n",
       "        [ 85, 153, 204],\n",
       "        [ 85, 153, 204],\n",
       "        [  0,   0,   0]],\n",
       "\n",
       "       [[ 85, 153, 204],\n",
       "        [ 85, 153, 204],\n",
       "        [191, 219, 241],\n",
       "        ..., \n",
       "        [191, 219, 241],\n",
       "        [ 85, 153, 204],\n",
       "        [ 85, 153, 204]],\n",
       "\n",
       "       [[ 85, 153, 204],\n",
       "        [188, 218, 241],\n",
       "        [224, 241, 253],\n",
       "        ..., \n",
       "        [225, 242, 254],\n",
       "        [188, 218, 241],\n",
       "        [ 85, 153, 204]],\n",
       "\n",
       "       ..., \n",
       "       [[ 85, 153, 204],\n",
       "        [142, 188, 221],\n",
       "        [171, 206, 231],\n",
       "        ..., \n",
       "        [171, 206, 231],\n",
       "        [142, 187, 221],\n",
       "        [ 85, 153, 204]],\n",
       "\n",
       "       [[ 85, 153, 204],\n",
       "        [ 85, 153, 204],\n",
       "        [143, 188, 221],\n",
       "        ..., \n",
       "        [143, 188, 221],\n",
       "        [ 85, 153, 204],\n",
       "        [ 85, 153, 204]],\n",
       "\n",
       "       [[255, 255, 255],\n",
       "        [ 85, 153, 204],\n",
       "        [ 85, 153, 204],\n",
       "        ..., \n",
       "        [ 85, 153, 204],\n",
       "        [ 85, 153, 204],\n",
       "        [255, 255, 255]]], dtype=uint8)"
      ]
     },
     "execution_count": 198,
     "metadata": {},
     "output_type": "execute_result"
    }
   ],
   "source": [
    "arr1"
   ]
  },
  {
   "cell_type": "code",
   "execution_count": 199,
   "metadata": {
    "collapsed": false
   },
   "outputs": [
    {
     "data": {
      "text/plain": [
       "array([[[ 92,  45, 145],\n",
       "        [ 92,  45, 145],\n",
       "        [ 92,  45, 145],\n",
       "        ..., \n",
       "        [ 92,  45, 145],\n",
       "        [ 92,  45, 145],\n",
       "        [ 92,  45, 145]],\n",
       "\n",
       "       [[ 92,  45, 145],\n",
       "        [ 92,  45, 145],\n",
       "        [ 92,  45, 145],\n",
       "        ..., \n",
       "        [ 92,  45, 145],\n",
       "        [ 92,  45, 145],\n",
       "        [ 92,  45, 145]],\n",
       "\n",
       "       [[ 92,  45, 145],\n",
       "        [ 92,  45, 145],\n",
       "        [ 92,  45, 145],\n",
       "        ..., \n",
       "        [ 92,  45, 145],\n",
       "        [ 92,  45, 145],\n",
       "        [ 92,  45, 145]],\n",
       "\n",
       "       ..., \n",
       "       [[ 92,  45, 145],\n",
       "        [ 92,  45, 145],\n",
       "        [ 92,  45, 145],\n",
       "        ..., \n",
       "        [ 92,  45, 145],\n",
       "        [ 92,  45, 145],\n",
       "        [ 92,  45, 145]],\n",
       "\n",
       "       [[ 92,  45, 145],\n",
       "        [ 92,  45, 145],\n",
       "        [ 92,  45, 145],\n",
       "        ..., \n",
       "        [ 92,  45, 145],\n",
       "        [ 92,  45, 145],\n",
       "        [ 92,  45, 145]],\n",
       "\n",
       "       [[ 92,  45, 145],\n",
       "        [ 92,  45, 145],\n",
       "        [ 92,  45, 145],\n",
       "        ..., \n",
       "        [ 92,  45, 145],\n",
       "        [ 92,  45, 145],\n",
       "        [ 92,  45, 145]]], dtype=uint8)"
      ]
     },
     "execution_count": 199,
     "metadata": {},
     "output_type": "execute_result"
    }
   ],
   "source": [
    "img2 = Image.open('img2.png')\n",
    "arr2 = np.array(img2)\n",
    "arr2 = arr2[:,:,:3]\n",
    "img2.show()\n",
    "arr2"
   ]
  },
  {
   "cell_type": "code",
   "execution_count": 200,
   "metadata": {
    "collapsed": false
   },
   "outputs": [
    {
     "data": {
      "text/plain": [
       "array([[[255, 255, 255],\n",
       "        [255, 255, 255],\n",
       "        [255, 255, 255],\n",
       "        ..., \n",
       "        [255, 255, 255],\n",
       "        [255, 255, 255],\n",
       "        [255, 255, 255]],\n",
       "\n",
       "       [[255, 255, 255],\n",
       "        [255, 255, 255],\n",
       "        [255, 255, 255],\n",
       "        ..., \n",
       "        [255, 255, 255],\n",
       "        [255, 255, 255],\n",
       "        [255, 255, 255]],\n",
       "\n",
       "       [[255, 255, 255],\n",
       "        [255, 255, 255],\n",
       "        [255, 255, 255],\n",
       "        ..., \n",
       "        [255, 255, 255],\n",
       "        [255, 255, 255],\n",
       "        [255, 255, 255]],\n",
       "\n",
       "       ..., \n",
       "       [[255, 255, 255],\n",
       "        [118, 117, 118],\n",
       "        [122, 121, 122],\n",
       "        ..., \n",
       "        [113, 113, 113],\n",
       "        [ 39,  39,  39],\n",
       "        [  0,   0,   0]],\n",
       "\n",
       "       [[255, 255, 255],\n",
       "        [255, 255, 255],\n",
       "        [  0,   0,   0],\n",
       "        ..., \n",
       "        [  0,   0,   0],\n",
       "        [  0,   0,   0],\n",
       "        [  0,   0,   0]],\n",
       "\n",
       "       [[255, 255, 255],\n",
       "        [255, 255, 255],\n",
       "        [255, 255, 255],\n",
       "        ..., \n",
       "        [255, 255, 255],\n",
       "        [255, 255, 255],\n",
       "        [255, 255, 255]]], dtype=uint8)"
      ]
     },
     "execution_count": 200,
     "metadata": {},
     "output_type": "execute_result"
    }
   ],
   "source": [
    "img3 = Image.open('img3.png')\n",
    "arr3 = np.array(img3)\n",
    "arr3 = arr3[:,:,:3]\n",
    "img3.show()\n",
    "arr3"
   ]
  },
  {
   "cell_type": "code",
   "execution_count": 201,
   "metadata": {
    "collapsed": false
   },
   "outputs": [
    {
     "data": {
      "text/plain": [
       "array([[[ 38, 116, 205],\n",
       "        [ 38, 116, 205],\n",
       "        [ 38, 116, 205],\n",
       "        ..., \n",
       "        [ 38, 116, 205],\n",
       "        [ 38, 116, 205],\n",
       "        [ 38, 116, 205]],\n",
       "\n",
       "       [[ 38, 116, 205],\n",
       "        [103, 155, 218],\n",
       "        [169, 195, 232],\n",
       "        ..., \n",
       "        [175, 198, 233],\n",
       "        [106, 157, 219],\n",
       "        [ 38, 116, 205]],\n",
       "\n",
       "       [[ 38, 116, 205],\n",
       "        [172, 196, 233],\n",
       "        [164, 187, 229],\n",
       "        ..., \n",
       "        [137, 164, 219],\n",
       "        [140, 167, 221],\n",
       "        [ 38, 116, 205]],\n",
       "\n",
       "       ..., \n",
       "       [[ 38, 116, 205],\n",
       "        [169, 195, 232],\n",
       "        [135, 164, 218],\n",
       "        ..., \n",
       "        [132, 161, 217],\n",
       "        [131, 160, 217],\n",
       "        [ 38, 116, 205]],\n",
       "\n",
       "       [[ 38, 116, 205],\n",
       "        [ 99, 152, 218],\n",
       "        [123, 157, 216],\n",
       "        ..., \n",
       "        [121, 155, 215],\n",
       "        [ 81, 136, 210],\n",
       "        [ 38, 116, 205]],\n",
       "\n",
       "       [[ 38, 116, 205],\n",
       "        [ 38, 116, 205],\n",
       "        [ 38, 116, 205],\n",
       "        ..., \n",
       "        [ 38, 116, 205],\n",
       "        [ 38, 116, 205],\n",
       "        [ 38, 116, 205]]], dtype=uint8)"
      ]
     },
     "execution_count": 201,
     "metadata": {},
     "output_type": "execute_result"
    }
   ],
   "source": [
    "img4 = Image.open('img4.png')\n",
    "arr4 = np.array(img4)\n",
    "arr4= arr4[:,:,:3]\n",
    "img4.show()\n",
    "arr4"
   ]
  },
  {
   "cell_type": "code",
   "execution_count": 202,
   "metadata": {
    "collapsed": false
   },
   "outputs": [
    {
     "data": {
      "text/plain": [
       "array([[[156,  36,  22],\n",
       "        [156,  36,  22],\n",
       "        [156,  36,  22],\n",
       "        ..., \n",
       "        [156,  36,  22],\n",
       "        [156,  36,  22],\n",
       "        [156,  36,  22]],\n",
       "\n",
       "       [[155,  36,  22],\n",
       "        [188,  69,  55],\n",
       "        [222,  79,  62],\n",
       "        ..., \n",
       "        [188,  69,  55],\n",
       "        [155,  36,  22],\n",
       "        [155,  36,  22]],\n",
       "\n",
       "       [[154,  36,  22],\n",
       "        [222,  75,  57],\n",
       "        [228,  78,  60],\n",
       "        ..., \n",
       "        [223,  75,  57],\n",
       "        [153,  36,  22],\n",
       "        [154,  36,  22]],\n",
       "\n",
       "       ..., \n",
       "       [[108,  30,  23],\n",
       "        [134,  30,  22],\n",
       "        [167,  30,  21],\n",
       "        ..., \n",
       "        [135,  30,  22],\n",
       "        [ 95,  26,  20],\n",
       "        [  0,   0,   0]],\n",
       "\n",
       "       [[107,  30,  23],\n",
       "        [ 96,  27,  21],\n",
       "        [106,  30,  23],\n",
       "        ..., \n",
       "        [ 94,  26,  20],\n",
       "        [  8,   2,   2],\n",
       "        [  0,   0,   0]],\n",
       "\n",
       "       [[116,  28,   0],\n",
       "        [  0,   0,   0],\n",
       "        [  0,   0,   0],\n",
       "        ..., \n",
       "        [  0,   0,   0],\n",
       "        [  0,   0,   0],\n",
       "        [  0,   0,   0]]], dtype=uint8)"
      ]
     },
     "execution_count": 202,
     "metadata": {},
     "output_type": "execute_result"
    }
   ],
   "source": [
    "img5 = Image.open('img5.png')\n",
    "arr5 = np.array(img5)\n",
    "arr5 = arr5[:,:,:3]\n",
    "img5.show()\n",
    "arr5"
   ]
  },
  {
   "cell_type": "code",
   "execution_count": 203,
   "metadata": {
    "collapsed": false
   },
   "outputs": [
    {
     "data": {
      "text/plain": [
       "array([[[ 0.,  0.,  0.],\n",
       "        [ 0.,  0.,  0.],\n",
       "        [ 0.,  0.,  0.],\n",
       "        ..., \n",
       "        [ 0.,  0.,  0.],\n",
       "        [ 0.,  0.,  0.],\n",
       "        [ 0.,  0.,  0.]],\n",
       "\n",
       "       [[ 0.,  0.,  0.],\n",
       "        [ 0.,  0.,  0.],\n",
       "        [ 0.,  0.,  0.],\n",
       "        ..., \n",
       "        [ 0.,  0.,  0.],\n",
       "        [ 0.,  0.,  0.],\n",
       "        [ 0.,  0.,  0.]],\n",
       "\n",
       "       [[ 0.,  0.,  0.],\n",
       "        [ 0.,  0.,  0.],\n",
       "        [ 0.,  0.,  0.],\n",
       "        ..., \n",
       "        [ 0.,  0.,  0.],\n",
       "        [ 0.,  0.,  0.],\n",
       "        [ 0.,  0.,  0.]],\n",
       "\n",
       "       ..., \n",
       "       [[ 0.,  0.,  0.],\n",
       "        [ 0.,  0.,  0.],\n",
       "        [ 0.,  0.,  0.],\n",
       "        ..., \n",
       "        [ 0.,  0.,  0.],\n",
       "        [ 0.,  0.,  0.],\n",
       "        [ 0.,  0.,  0.]],\n",
       "\n",
       "       [[ 0.,  0.,  0.],\n",
       "        [ 0.,  0.,  0.],\n",
       "        [ 0.,  0.,  0.],\n",
       "        ..., \n",
       "        [ 0.,  0.,  0.],\n",
       "        [ 0.,  0.,  0.],\n",
       "        [ 0.,  0.,  0.]],\n",
       "\n",
       "       [[ 0.,  0.,  0.],\n",
       "        [ 0.,  0.,  0.],\n",
       "        [ 0.,  0.,  0.],\n",
       "        ..., \n",
       "        [ 0.,  0.,  0.],\n",
       "        [ 0.,  0.,  0.],\n",
       "        [ 0.,  0.,  0.]]])"
      ]
     },
     "execution_count": 203,
     "metadata": {},
     "output_type": "execute_result"
    }
   ],
   "source": [
    "arr0 = np.zeros([32,32,3])\n",
    "arr0"
   ]
  },
  {
   "cell_type": "code",
   "execution_count": 204,
   "metadata": {
    "collapsed": false
   },
   "outputs": [],
   "source": [
    "#calculate the average\n",
    "for i in range(0,32*32*3):\n",
    "    arr0.reshape(32*32*3,1)[i]=1/5*(arr1.reshape(32*32*3,1)[i]+arr2.reshape(32*32*3,1)[i]+\n",
    "                                    arr3.reshape(32*32*3,1)[i]+arr4.reshape(32*32*3,1)[i]+\n",
    "                                    arr5.reshape(32*32*3,1)[i])"
   ]
  },
  {
   "cell_type": "code",
   "execution_count": 205,
   "metadata": {
    "collapsed": false
   },
   "outputs": [
    {
     "data": {
      "text/plain": [
       "array([[[  5.8,  39.2,  23. ],\n",
       "        [ 22.8,  18.6,  12.6],\n",
       "        [ 22.8,  18.6,  12.6],\n",
       "        ..., \n",
       "        [ 22.8,  18.6,  12.6],\n",
       "        [ 22.8,  18.6,  12.6],\n",
       "        [  5.8,  39.2,  23. ]],\n",
       "\n",
       "       [[ 22.6,  18.6,  12.6],\n",
       "        [ 42.2,  33. ,  21.8],\n",
       "        [ 32.2,   5. ,  33.4],\n",
       "        ..., \n",
       "        [ 26.6,   3.6,  32.2],\n",
       "        [ 36.2,  26.8,  15.4],\n",
       "        [ 22.6,  18.6,  12.6]],\n",
       "\n",
       "       [[ 22.4,  18.6,  12.6],\n",
       "        [ 32.2,   4.2,  32.6],\n",
       "        [ 39. ,   7.6,  34.8],\n",
       "        ..., \n",
       "        [ 32.8,   2.6,  32.4],\n",
       "        [ 12. ,  41.8,  23.2],\n",
       "        [ 22.4,  18.6,  12.6]],\n",
       "\n",
       "       ..., \n",
       "       [[ 13.2,  17.4,  12.8],\n",
       "        [ 28.6,  12.6,  45.2],\n",
       "        [ 35. ,  10.8,  45. ],\n",
       "        ..., \n",
       "        [ 26.2,   8.6,  43.2],\n",
       "        [ 48.6,  40.2,  26. ],\n",
       "        [ 43. ,  11.6,   8.4]],\n",
       "\n",
       "       [[ 13. ,  17.4,  12.8],\n",
       "        [ 23. ,  24. ,  15. ],\n",
       "        [ 41.6,  32.8,  18.6],\n",
       "        ..., \n",
       "        [ 38.8,  31.6,  17.8],\n",
       "        [  2. ,  16. ,   9.8],\n",
       "        [ 43. ,  11.6,   8.4]],\n",
       "\n",
       "       [[ 48.8,  37.4,  18.4],\n",
       "        [ 42.8,  11.4,   8.2],\n",
       "        [ 42.8,  11.4,   8.2],\n",
       "        ..., \n",
       "        [ 42.8,  11.4,   8.2],\n",
       "        [ 42.8,  11.4,   8.2],\n",
       "        [ 25.6,  31.8,  18.4]]])"
      ]
     },
     "execution_count": 205,
     "metadata": {},
     "output_type": "execute_result"
    }
   ],
   "source": [
    "arr0"
   ]
  },
  {
   "cell_type": "code",
   "execution_count": 206,
   "metadata": {
    "collapsed": false
   },
   "outputs": [
    {
     "data": {
      "text/plain": [
       "array([[  0,  92, 255,  38, 156],\n",
       "       [  0,  45, 255, 116,  36],\n",
       "       [  0, 145, 255, 205,  22],\n",
       "       ..., \n",
       "       [255,  92, 255,  38,   0],\n",
       "       [255,  45, 255, 116,   0],\n",
       "       [255, 145, 255, 205,   0]], dtype=uint8)"
      ]
     },
     "execution_count": 206,
     "metadata": {},
     "output_type": "execute_result"
    }
   ],
   "source": [
    "# one big matrix with the images as columns\n",
    "arrS=np.concatenate((arr1.reshape(32*32*3,1),arr2.reshape(32*32*3,1),\n",
    "                     arr3.reshape(32*32*3,1),arr4.reshape(32*32*3,1),\n",
    "                     arr5.reshape(32*32*3,1)),\n",
    "                    axis=1)\n",
    "arrS"
   ]
  },
  {
   "cell_type": "code",
   "execution_count": 207,
   "metadata": {
    "collapsed": false
   },
   "outputs": [],
   "source": [
    "#average by pixels\n",
    "arrA=np.average(arrS,1)\n",
    "\n",
    "#visual checking\n",
    "arrAimg=arrA.reshape(32,32,3).astype(np.uint8)\n",
    "im = Image.fromarray(arrAimg)\n",
    "#im.save(\"img0.png\")\n",
    "im.show()"
   ]
  },
  {
   "cell_type": "code",
   "execution_count": 208,
   "metadata": {
    "collapsed": false
   },
   "outputs": [
    {
     "data": {
      "text/plain": [
       "array([  90.25829602,   90.48889435,   99.93317767, ...,  107.73857248,\n",
       "        105.34021075,   95.05787711])"
      ]
     },
     "execution_count": 208,
     "metadata": {},
     "output_type": "execute_result"
    }
   ],
   "source": [
    "#deviation by pixels\n",
    "\n",
    "arrSTD=np.std(arrS,1)\n",
    "arrSTD"
   ]
  },
  {
   "cell_type": "code",
   "execution_count": 209,
   "metadata": {
    "collapsed": false
   },
   "outputs": [
    {
     "data": {
      "text/plain": [
       "array([[[-1.19878177, -0.99901762, -1.25483851],\n",
       "        [-0.53605909,  0.39996251,  0.47203704],\n",
       "        [-0.53605909,  0.39996251,  0.47203704],\n",
       "        ..., \n",
       "        [-0.53605909,  0.39996251,  0.47203704],\n",
       "        [-0.53605909,  0.39996251,  0.47203704],\n",
       "        [-1.19878177, -0.99901762, -1.25483851]],\n",
       "\n",
       "       [[-0.53396973,  0.39996251,  0.47203704],\n",
       "        [-0.89603902,  0.23697735,  0.40949845],\n",
       "        [ 0.09429082,  0.73782416,  0.7354737 ],\n",
       "        ..., \n",
       "        [ 0.20724214,  0.73429204,  0.72685963],\n",
       "        [-0.84907968,  0.29322088,  0.42883656],\n",
       "        [-0.53396973,  0.39996251,  0.47203704]],\n",
       "\n",
       "       [[-0.53186127,  0.39996251,  0.47203704],\n",
       "        [ 0.04004265,  0.72884561,  0.72818793],\n",
       "        [ 0.53738139,  0.93711558,  0.85374482],\n",
       "        ..., \n",
       "        [ 0.62804175,  1.00916317,  0.8960409 ],\n",
       "        [ 0.41276458,  0.82727524,  0.74465332],\n",
       "        [-0.53186127,  0.39996251,  0.47203704]],\n",
       "\n",
       "       ..., \n",
       "       [[-0.41637316,  0.40832486,  0.47165962],\n",
       "        [ 0.4305292 ,  1.05679523,  0.96098986],\n",
       "        [ 1.14452677,  1.37344243,  1.10534831],\n",
       "        ..., \n",
       "        [ 1.61808491,  1.41787886,  1.12659025],\n",
       "        [ 1.16729682,  1.40889593,  1.08464529],\n",
       "        [ 1.05742809,  1.45670436,  1.00171284]],\n",
       "\n",
       "       [[-0.41352928,  0.40832486,  0.47165962],\n",
       "        [-0.62182994,  0.32065792,  0.43247209],\n",
       "        [ 1.01548717,  1.39883031,  1.067874  ],\n",
       "        ..., \n",
       "        [ 1.08685084,  1.41107539,  1.07148223],\n",
       "        [ 0.78703228,  1.3128785 ,  0.98081401],\n",
       "        [ 1.05742809,  1.45670436,  1.00171284]],\n",
       "\n",
       "       [[ 1.1736976 ,  1.16853731,  0.87315226],\n",
       "        [-0.10326698,  0.44292909,  0.47908293],\n",
       "        [-0.10326698,  0.44292909,  0.47908293],\n",
       "        ..., \n",
       "        [-0.10326698,  0.44292909,  0.47908293],\n",
       "        [-0.10326698,  0.44292909,  0.47908293],\n",
       "        [ 1.17877931,  1.14676057,  0.87315226]]])"
      ]
     },
     "execution_count": 209,
     "metadata": {},
     "output_type": "execute_result"
    }
   ],
   "source": [
    "#Warning of possible divide with 0, likely to happens if not full images or if we use RGBA\n",
    "arrTemp=(arr1.reshape(1,32*32*3)-arrA)/(arrSTD)\n",
    "arr1=arrTemp.reshape(32,32,3)\n",
    "arr1"
   ]
  },
  {
   "cell_type": "code",
   "execution_count": 210,
   "metadata": {
    "collapsed": false
   },
   "outputs": [],
   "source": [
    "arrTemp=(arr2.reshape(1,32*32*3)-arrA)/(arrSTD)\n",
    "arr2=arrTemp.reshape(32,32,3)\n",
    "arrTemp=(arr3.reshape(1,32*32*3)-arrA)/(arrSTD)\n",
    "arr3=arrTemp.reshape(32,32,3)\n",
    "arrTemp=(arr4.reshape(1,32*32*3)-arrA)/(arrSTD)\n",
    "arr4=arrTemp.reshape(32,32,3)\n",
    "arrTemp=(arr5.reshape(1,32*32*3)-arrA)/(arrSTD)\n",
    "arr5=arrTemp.reshape(32,32,3)"
   ]
  },
  {
   "cell_type": "markdown",
   "metadata": {},
   "source": [
    "# Audio"
   ]
  },
  {
   "cell_type": "code",
   "execution_count": 211,
   "metadata": {
    "collapsed": false
   },
   "outputs": [],
   "source": [
    "#http://freewavesamples.com/roland-sc-88-tuba-c3"
   ]
  },
  {
   "cell_type": "code",
   "execution_count": 227,
   "metadata": {
    "collapsed": true
   },
   "outputs": [],
   "source": [
    "import wave\n",
    "import sys\n",
    "import matplotlib.pyplot as plt"
   ]
  },
  {
   "cell_type": "code",
   "execution_count": 228,
   "metadata": {
    "collapsed": false
   },
   "outputs": [],
   "source": [
    "w = wave.open(\"aud.wav\")\n",
    "sound_info = w.readframes(-1)\n",
    "sound_info = pylab.fromstring(sound_info, 'Int16')"
   ]
  },
  {
   "cell_type": "code",
   "execution_count": 229,
   "metadata": {
    "collapsed": true
   },
   "outputs": [],
   "source": [
    "spectrogram = plt.specgram(sound_info, Fs = f, scale_by_freq=True,sides='default')"
   ]
  },
  {
   "cell_type": "code",
   "execution_count": 230,
   "metadata": {
    "collapsed": false
   },
   "outputs": [],
   "source": [
    "plt.show()"
   ]
  },
  {
   "cell_type": "code",
   "execution_count": 231,
   "metadata": {
    "collapsed": false
   },
   "outputs": [],
   "source": [
    "w.close()"
   ]
  },
  {
   "cell_type": "markdown",
   "metadata": {},
   "source": [
    "# Text"
   ]
  },
  {
   "cell_type": "code",
   "execution_count": 332,
   "metadata": {
    "collapsed": false
   },
   "outputs": [],
   "source": [
    "f = open(\"text.txt\")\n",
    "\n",
    "lts = np.zeros(36)\n",
    "hunletters = \"aábcdeéfghiíjklmnoóöőpqrstuúüűvwxyz\"\n",
    "for line in f:\n",
    "    line = line.rstrip()\n",
    "    line = line.lower()\n",
    "    for letter in line:\n",
    "        if (hunletters.find(letter)>-1):\n",
    "            #print(hunletters.find(letter))\n",
    "            lts[hunletters.find(letter)+1]+=1\n",
    "\n",
    "\n",
    "\n",
    "\n"
   ]
  },
  {
   "cell_type": "code",
   "execution_count": 333,
   "metadata": {
    "collapsed": false
   },
   "outputs": [],
   "source": [
    "lts=lts[1:]"
   ]
  },
  {
   "cell_type": "code",
   "execution_count": 334,
   "metadata": {
    "collapsed": false
   },
   "outputs": [],
   "source": [
    "#i tried with dictionaries but i failed\n",
    "plt.bar(range(np.size(lts)), lts)\n",
    "plt.xticks(range(np.size(lts)), hunletters)\n",
    "plt.show()"
   ]
  },
  {
   "cell_type": "code",
   "execution_count": null,
   "metadata": {
    "collapsed": true
   },
   "outputs": [],
   "source": []
  }
 ],
 "metadata": {
  "kernelspec": {
   "display_name": "Python 3",
   "language": "python",
   "name": "python3"
  },
  "language_info": {
   "codemirror_mode": {
    "name": "ipython",
    "version": 3
   },
   "file_extension": ".py",
   "mimetype": "text/x-python",
   "name": "python",
   "nbconvert_exporter": "python",
   "pygments_lexer": "ipython3",
   "version": "3.4.3"
  }
 },
 "nbformat": 4,
 "nbformat_minor": 1
}
